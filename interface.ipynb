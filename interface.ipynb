{
 "cells": [
  {
   "cell_type": "code",
   "id": "initial_id",
   "metadata": {
    "ExecuteTime": {
     "end_time": "2024-12-05T14:06:05.936995Z",
     "start_time": "2024-12-05T14:06:03.418218Z"
    }
   },
   "source": [
    "import pandas as pd\n",
    "\n",
    "import main\n",
    "\n",
    "google = main.main()"
   ],
   "outputs": [
    {
     "ename": "TypeError",
     "evalue": "string indices must be integers, not 'str'",
     "output_type": "error",
     "traceback": [
      "\u001B[0;31m---------------------------------------------------------------------------\u001B[0m",
      "\u001B[0;31mTypeError\u001B[0m                                 Traceback (most recent call last)",
      "Cell \u001B[0;32mIn[11], line 5\u001B[0m\n\u001B[1;32m      1\u001B[0m \u001B[38;5;28;01mimport\u001B[39;00m \u001B[38;5;21;01mpandas\u001B[39;00m \u001B[38;5;28;01mas\u001B[39;00m \u001B[38;5;21;01mpd\u001B[39;00m\n\u001B[1;32m      3\u001B[0m \u001B[38;5;28;01mimport\u001B[39;00m \u001B[38;5;21;01mmain\u001B[39;00m\n\u001B[0;32m----> 5\u001B[0m google \u001B[38;5;241m=\u001B[39m \u001B[43mmain\u001B[49m\u001B[38;5;241;43m.\u001B[39;49m\u001B[43mmain\u001B[49m\u001B[43m(\u001B[49m\u001B[43m)\u001B[49m\n",
      "File \u001B[0;32m~/PycharmProjects/Google2/main.py:81\u001B[0m, in \u001B[0;36mmain\u001B[0;34m()\u001B[0m\n\u001B[1;32m     79\u001B[0m \u001B[38;5;28;01mdef\u001B[39;00m \u001B[38;5;21mmain\u001B[39m() \u001B[38;5;241m-\u001B[39m\u001B[38;5;241m>\u001B[39m SearchEngine:\n\u001B[1;32m     80\u001B[0m     \u001B[38;5;28;01mif\u001B[39;00m BUILD_CORPUS :\n\u001B[0;32m---> 81\u001B[0m         corpus \u001B[38;5;241m=\u001B[39m \u001B[43mbuild_corpus\u001B[49m\u001B[43m(\u001B[49m\u001B[38;5;241;43m100\u001B[39;49m\u001B[43m)\u001B[49m\n\u001B[1;32m     82\u001B[0m         save_corpus(corpus)\n\u001B[1;32m     83\u001B[0m     \u001B[38;5;28;01melse\u001B[39;00m:\n",
      "File \u001B[0;32m~/PycharmProjects/Google2/main.py:67\u001B[0m, in \u001B[0;36mbuild_corpus\u001B[0;34m(nb)\u001B[0m\n\u001B[1;32m     65\u001B[0m corpus \u001B[38;5;241m=\u001B[39m Corpus(\u001B[38;5;124m\"\u001B[39m\u001B[38;5;124mcorpus\u001B[39m\u001B[38;5;124m\"\u001B[39m)\n\u001B[1;32m     66\u001B[0m reddit(nb)\n\u001B[0;32m---> 67\u001B[0m \u001B[43marxiv\u001B[49m\u001B[43m(\u001B[49m\u001B[43mnb\u001B[49m\u001B[43m)\u001B[49m\n\u001B[1;32m     69\u001B[0m d: Document\n\u001B[1;32m     70\u001B[0m \u001B[38;5;28;01mfor\u001B[39;00m d \u001B[38;5;129;01min\u001B[39;00m id2doc\u001B[38;5;241m.\u001B[39mvalues():\n",
      "File \u001B[0;32m~/PycharmProjects/Google2/main.py:42\u001B[0m, in \u001B[0;36marxiv\u001B[0;34m(nb_doc)\u001B[0m\n\u001B[1;32m     39\u001B[0m key \u001B[38;5;241m=\u001B[39m \u001B[38;5;241m0\u001B[39m\n\u001B[1;32m     41\u001B[0m \u001B[38;5;28;01mfor\u001B[39;00m articles \u001B[38;5;129;01min\u001B[39;00m generated_dict[\u001B[38;5;124m'\u001B[39m\u001B[38;5;124mfeed\u001B[39m\u001B[38;5;124m'\u001B[39m][\u001B[38;5;124m'\u001B[39m\u001B[38;5;124mentry\u001B[39m\u001B[38;5;124m'\u001B[39m]:\n\u001B[0;32m---> 42\u001B[0m     title \u001B[38;5;241m=\u001B[39m \u001B[43marticles\u001B[49m\u001B[43m[\u001B[49m\u001B[38;5;124;43m'\u001B[39;49m\u001B[38;5;124;43mtitle\u001B[39;49m\u001B[38;5;124;43m'\u001B[39;49m\u001B[43m]\u001B[49m\u001B[38;5;241m.\u001B[39mreplace(\u001B[38;5;124m\"\u001B[39m\u001B[38;5;130;01m\\n\u001B[39;00m\u001B[38;5;124m\"\u001B[39m, \u001B[38;5;124m\"\u001B[39m\u001B[38;5;124m \u001B[39m\u001B[38;5;124m\"\u001B[39m)\n\u001B[1;32m     43\u001B[0m     txt \u001B[38;5;241m=\u001B[39m articles[\u001B[38;5;124m'\u001B[39m\u001B[38;5;124msummary\u001B[39m\u001B[38;5;124m'\u001B[39m]\u001B[38;5;241m.\u001B[39mreplace(\u001B[38;5;124m\"\u001B[39m\u001B[38;5;130;01m\\n\u001B[39;00m\u001B[38;5;124m\"\u001B[39m, \u001B[38;5;124m\"\u001B[39m\u001B[38;5;124m \u001B[39m\u001B[38;5;124m\"\u001B[39m)\n\u001B[1;32m     44\u001B[0m     \u001B[38;5;28;01mif\u001B[39;00m \u001B[38;5;28mlen\u001B[39m(articles[\u001B[38;5;124m'\u001B[39m\u001B[38;5;124mauthor\u001B[39m\u001B[38;5;124m'\u001B[39m]) \u001B[38;5;241m==\u001B[39m \u001B[38;5;241m1\u001B[39m:\n",
      "\u001B[0;31mTypeError\u001B[0m: string indices must be integers, not 'str'"
     ]
    }
   ],
   "execution_count": 11
  },
  {
   "cell_type": "code",
   "id": "400261d4b981fef4",
   "metadata": {
    "ExecuteTime": {
     "end_time": "2024-12-05T14:01:17.263116915Z",
     "start_time": "2024-12-05T13:32:16.337875Z"
    }
   },
   "source": [
    "import ipywidgets as widgets\n",
    "from IPython.display import display\n",
    "\n",
    "label = widgets.Label(value=\"Search for a term in the corpus\")\n",
    "\n",
    "search_box = widgets.Text(\n",
    "    value='health',\n",
    "    placeholder='Type something',\n",
    "    description='Search:',\n",
    "    disabled=False,\n",
    ")\n",
    "\n",
    "slider = widgets.IntSlider(\n",
    "    value=10,\n",
    "    min=0,\n",
    "    max=20,\n",
    "    step=1,\n",
    "    description='Search results:',\n",
    "    disabled=False,\n",
    "    continuous_update=False,\n",
    "    orientation='horizontal',\n",
    "    readout=True,\n",
    "    readout_format='d',\n",
    "    style={'description_width': 'initial'}\n",
    ")\n",
    "\n",
    "button = widgets.Button(description=\"Search\")\n",
    "\n",
    "search_strength = widgets.IntSlider(\n",
    "    value=1,\n",
    "    min=1,\n",
    "    max=3,\n",
    "    step=1,\n",
    "    description='Search strength:',\n",
    "    disabled=False,\n",
    "    continuous_update=False,\n",
    "    orientation='horizontal',\n",
    "    readout=True,\n",
    "    readout_format='d',\n",
    "    style={'description_width': 'initial'}\n",
    ")\n",
    "\n",
    "k_label = widgets.Label(value=\"keyword importance (only for strength 3)\")\n",
    "\n",
    "k = widgets.FloatSlider(\n",
    "    value=1.5,\n",
    "    min=0,\n",
    "    max=2,\n",
    "    step=0.1,\n",
    "    description='k:',\n",
    "    disabled=True,\n",
    "    continuous_update=False,\n",
    "    orientation='horizontal',\n",
    "    readout=True,\n",
    "    readout_format='.1f',\n",
    "    style={'description_width': 'initial'}\n",
    ")\n",
    "\n",
    "b_label = widgets.Label(value=\"prefer shorter documents (only for strength 3)\")\n",
    "\n",
    "b = widgets.FloatSlider(\n",
    "    value=0.65,\n",
    "    min=0,\n",
    "    max=1,\n",
    "    step=0.05,\n",
    "    description='b:',\n",
    "    disabled=True,\n",
    "    continuous_update=False,\n",
    "    orientation='horizontal',\n",
    "    readout=True,\n",
    "    readout_format='.2f',\n",
    "    style={'description_width': 'initial'}\n",
    ")\n",
    "\n",
    "simple_output = widgets.Checkbox(\n",
    "    value=False,\n",
    "    description='Simple Output',\n",
    "    disabled=False\n",
    ")\n",
    "\n",
    "output = widgets.Output()\n",
    "\n",
    "def update_sliders(*args):\n",
    "    if search_strength.value < 3:\n",
    "        k.disabled = True\n",
    "        b.disabled = True\n",
    "    else:\n",
    "        k.disabled = False\n",
    "        b.disabled = False\n",
    "\n",
    "search_strength.observe(update_sliders, 'value')\n",
    "\n",
    "\n",
    "def on_button_clicked(btn):\n",
    "    with output:\n",
    "        output.clear_output()\n",
    "        if search_strength.value == 1:\n",
    "            search_results = google.search(search_box.value)\n",
    "        elif search_strength.value == 2:\n",
    "            search_results = google.better_search(search_box.value)\n",
    "        else:\n",
    "            search_results = google.better_search_v2(search_box.value, k.value, b.value)\n",
    "\n",
    "        if search_results.empty:\n",
    "            display(\"No results found\")\n",
    "\n",
    "        with pd.option_context('display.max_colwidth', None):\n",
    "            if slider.value == 0:\n",
    "                if simple_output.value:\n",
    "                    display(search_results[[\"Body\", \"Score\"]])\n",
    "                else:\n",
    "                    display(search_results)\n",
    "            else:\n",
    "                if simple_output.value:\n",
    "                    display(search_results.head(slider.value)[[\"Body\", \"Score\"]])\n",
    "                else:\n",
    "                    display(search_results.head(slider.value))\n",
    "\n",
    "\n",
    "button.on_click(on_button_clicked)\n",
    "\n",
    "display(\n",
    "    widgets.VBox([label, search_box, slider, search_strength, k_label, k, b_label, b, simple_output, button, output]))"
   ],
   "outputs": [
    {
     "data": {
      "text/plain": [
       "VBox(children=(Label(value='Search for a term in the corpus'), Text(value='health', description='Search:', pla…"
      ],
      "application/vnd.jupyter.widget-view+json": {
       "version_major": 2,
       "version_minor": 0,
       "model_id": "d23640a28f684c2aa6f840bab210de34"
      }
     },
     "metadata": {},
     "output_type": "display_data"
    }
   ],
   "execution_count": 8
  },
  {
   "cell_type": "code",
   "id": "983c572d-7ebd-461b-9cd1-b3fa0dc4a1f0",
   "metadata": {
    "ExecuteTime": {
     "end_time": "2024-12-05T14:01:17.263606708Z",
     "start_time": "2024-12-05T13:32:16.626240Z"
    }
   },
   "source": [],
   "outputs": [],
   "execution_count": null
  }
 ],
 "metadata": {
  "kernelspec": {
   "display_name": "Python 3 (ipykernel)",
   "language": "python",
   "name": "python3"
  },
  "language_info": {
   "codemirror_mode": {
    "name": "ipython",
    "version": 3
   },
   "file_extension": ".py",
   "mimetype": "text/x-python",
   "name": "python",
   "nbconvert_exporter": "python",
   "pygments_lexer": "ipython3",
   "version": "3.13.0"
  }
 },
 "nbformat": 4,
 "nbformat_minor": 5
}
